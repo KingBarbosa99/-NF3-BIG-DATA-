{
  "cells": [
    {
      "cell_type": "markdown",
      "metadata": {
        "id": "view-in-github",
        "colab_type": "text"
      },
      "source": [
        "<a href=\"https://colab.research.google.com/github/KingBarbosa99/-NF3-BIG-DATA-MATHEUS-PEREIRA-BARBOSA/blob/main/NF3_BIG_DATA_Matheus_Pereira_Barbosa.ipynb\" target=\"_parent\"><img src=\"https://colab.research.google.com/assets/colab-badge.svg\" alt=\"Open In Colab\"/></a>"
      ]
    },
    {
      "cell_type": "markdown",
      "source": [
        " 1) Obtenha o dataset do endereço https://www.w3resource.com/pythonexercises/pandas/filter/world_alcohol.csv e realize as seguintes análises (2,5 pontos):"
      ],
      "metadata": {
        "id": "yliOyIYNC651"
      }
    },
    {
      "cell_type": "code",
      "source": [
        "import pandas as pd\n",
        "\n",
        "import matplotlib.pyplot as plt\n",
        "\n",
        "world_alcohol = pd.read_csv ('https://raw.githubusercontent.com/KingBarbosa99/-NF3-BIG-DATA-MATHEUS-PEREIRA-BARBOSA/main/world_alcohol.csv', encoding = 'latin-1',sep = ',')\n",
        "\n",
        "world_alcohol.head()\n"
      ],
      "metadata": {
        "id": "CP1lQIYMREoG"
      },
      "execution_count": null,
      "outputs": []
    },
    {
      "cell_type": "code",
      "source": [
        "# a) Agrupe os dados por tipo de bebidas \"Wine\"\n",
        "\n",
        "world_alcoho = world_alcohol.groupby('Beverage Types')\n",
        "\n",
        "world_alcoho.get_group('Wine')"
      ],
      "metadata": {
        "id": "KEDQXIaRSpAv"
      },
      "execution_count": null,
      "outputs": []
    },
    {
      "cell_type": "code",
      "source": [
        "# Agrupe os dados por tipo de bebidas \"Other\"\n",
        "\n",
        "world_alcoho.get_group('Other')"
      ],
      "metadata": {
        "id": "aqiJhSXy8LgA"
      },
      "execution_count": null,
      "outputs": []
    },
    {
      "cell_type": "code",
      "source": [
        "# Agrupe os dados por tipo de bebidas \"Spirits\"\n",
        "\n",
        "world_alcoho.get_group('Spirits')"
      ],
      "metadata": {
        "id": "UyiMGP-684A8"
      },
      "execution_count": null,
      "outputs": []
    },
    {
      "cell_type": "code",
      "source": [
        "# Agrupe os dados por tipo de bebidas \"Beer\"\n",
        "\n",
        "world_alcoho.get_group('Beer')"
      ],
      "metadata": {
        "id": "CgLZzcsg9MIE"
      },
      "execution_count": null,
      "outputs": []
    },
    {
      "cell_type": "code",
      "source": [
        "# b) Agrupe os dados por Região e por Ano;\n",
        "\n",
        "regio_ano  = world_alcohol.groupby(['WHO region','Year']).count()\n",
        "\n",
        "regio_ano\n",
        "\n"
      ],
      "metadata": {
        "id": "JfkxKgXESyei"
      },
      "execution_count": null,
      "outputs": []
    },
    {
      "cell_type": "code",
      "source": [
        "# c) Seção de Contagens: Contar a ocorrência de Regiões, de Países e a soma da coluna de valores por Bebida.\n",
        "\n",
        "world_alcohol [['WHO region','Country']].value_counts()"
      ],
      "metadata": {
        "id": "sTxW1VDvS7YN"
      },
      "execution_count": null,
      "outputs": []
    },
    {
      "cell_type": "code",
      "source": [
        "# d) Realize análises estatísticas da coluna dos valores: Média, Moda, Mediana, Estatística Descritiva e Gráfico de comparação dos valores agrupados por tipo de bebida\n",
        "\n",
        "media_valores = world_alcohol['Display Value'].mean()\n",
        "\n",
        "moda_valores = world_alcohol['Display Value'].mode()[0]\n",
        "\n",
        "mediana_valores = world_alcohol['Display Value'].median()\n",
        "\n",
        "estatisticas_descritivas = world_alcohol['Display Value'].describe()\n",
        "\n",
        "\n",
        "grupo_tipo_bebida = world_alcohol.groupby('Beverage Types')['Display Value'].mean()\n",
        "\n",
        "\n",
        "print(\"Média dos Valores:\", media_valores)\n",
        "\n",
        "print(\"Moda dos Valores:\", moda_valores)\n",
        "\n",
        "print(\"Mediana dos Valores:\", mediana_valores)\n",
        "\n",
        "print(\"Estatísticas Descritivas dos Valores:\")\n",
        "\n",
        "print(estatisticas_descritivas)\n",
        "\n",
        "\n",
        "fig, ax = plt.subplots()\n",
        "\n",
        "grupo_tipo_bebida.plot(kind='bar', ax=ax)\n",
        "\n",
        "ax.set_xlabel('Tipo de Bebida')\n",
        "\n",
        "ax.set_ylabel('Média dos Valores')\n",
        "\n",
        "ax.set_title('Comparação dos Valores Agrupados por Tipo de Bebida')\n",
        "\n",
        "plt.xticks(rotation=45)\n",
        "\n",
        "plt.tight_layout()\n",
        "\n",
        "plt.show()\n"
      ],
      "metadata": {
        "id": "a6dmeW2-YyE5"
      },
      "execution_count": null,
      "outputs": []
    },
    {
      "cell_type": "code",
      "source": [
        "# e) Mostre resultados de acordo com alguns critérios:\n",
        "\n",
        "# Mostrar a coluna de bebidas do ano de 1985.\n",
        "\n",
        "dados_1985 = world_alcohol[world_alcohol['Year'] == 1985]['Beverage Types']\n",
        "\n",
        "\n",
        "print(dados_1985)"
      ],
      "metadata": {
        "id": "mXR5SNJWaG65"
      },
      "execution_count": null,
      "outputs": []
    },
    {
      "cell_type": "code",
      "source": [
        "# Mostrar a coluna de Região com valores acima de 4.\n",
        "\n",
        "world_alcohol[world_alcohol['Display Value'] > 4]['WHO region']\n",
        "\n",
        "world_alcohol"
      ],
      "metadata": {
        "id": "xTdlTuNfaZYH"
      },
      "execution_count": null,
      "outputs": []
    },
    {
      "cell_type": "markdown",
      "source": [
        "2) Seja o dataset chamado cursos-prouni.csv que se encontra no endereço Cursos e notas de corte do\n",
        "PROUNI 2018 - Datasets - Brasil.IO. Baixe o arquivo, armazene no seu github** e obtenha os dados\n",
        "a partir desse endereço do github e realize as seguintes análises (2,5 pontos):"
      ],
      "metadata": {
        "id": "UgkPjC5JIJLD"
      }
    },
    {
      "cell_type": "code",
      "source": [
        "import pandas as pd\n",
        "\n",
        "import matplotlib.pyplot as plot\n",
        "\n",
        "cursos_prouni = pd.read_csv('https://raw.githubusercontent.com/KingBarbosa99/-NF3-BIG-DATA-MATHEUS-PEREIRA-BARBOSA/main/cursos-prouni.csv',encoding = 'latin-1',sep = ',')\n",
        "\n",
        "cursos_prouni\n",
        "\n",
        "cursos_prouni = cursos_prouni.replace('TecnolÃ³gico','Tecnológico',regex = True)\n",
        "\n",
        "cursos_prouni = cursos_prouni.replace('MatemÃ¡tica','Matemática',regex = True)\n",
        "\n",
        "\n",
        "\n"
      ],
      "metadata": {
        "id": "A3fRldnwITRS"
      },
      "execution_count": 70,
      "outputs": []
    },
    {
      "cell_type": "code",
      "source": [
        "# a) Efetuar a limpeza das colunas de notas: onde tiver NaN (Not a Number), substituir por 0,0.\n",
        "\n",
        "cursos_prouni['nota_integral_ampla'].fillna(0.0,inplace = True)\n",
        "\n",
        "cursos_prouni['nota_integral_cotas'].fillna(0.0,inplace = True)\n",
        "\n",
        "cursos_prouni['nota_parcial_ampla'].fillna(0.0,inplace = True)\n",
        "\n",
        "cursos_prouni['nota_parcial_cotas'].fillna(0.0,inplace = True)"
      ],
      "metadata": {
        "id": "dH0R2O-3JCHV"
      },
      "execution_count": 71,
      "outputs": []
    },
    {
      "cell_type": "code",
      "source": [
        "# b) Agrupe os dados pelo grau (Bacharelado, Licenciatura, etc)\n",
        "\n",
        "grau = cursos_prouni.groupby('grau')\n",
        "\n",
        "grau.get_group('Bacharelado')\n",
        "\n"
      ],
      "metadata": {
        "id": "D99xNYErJOCu"
      },
      "execution_count": null,
      "outputs": []
    },
    {
      "cell_type": "code",
      "source": [
        "grau.get_group('Licenciatura')"
      ],
      "metadata": {
        "id": "auL5GzDuKXiU"
      },
      "execution_count": null,
      "outputs": []
    },
    {
      "cell_type": "code",
      "source": [
        "grau.get_group('Tecnológico')"
      ],
      "metadata": {
        "id": "OdqTuwObMXhP"
      },
      "execution_count": null,
      "outputs": []
    },
    {
      "cell_type": "code",
      "source": [
        "# c) Agrupe os dados pelos cursos de Matemática, Medicina e Pedagogia.\n",
        "\n",
        "cursos_prounil = cursos_prouni.groupby('curso_busca')\n"
      ],
      "metadata": {
        "id": "OltaXw-xMpfR"
      },
      "execution_count": 75,
      "outputs": []
    },
    {
      "cell_type": "code",
      "source": [
        "cursos_prounil.get_group('Matemática')"
      ],
      "metadata": {
        "id": "r-WNEBpvM9bi"
      },
      "execution_count": null,
      "outputs": []
    },
    {
      "cell_type": "code",
      "source": [
        "cursos_prounil.get_group('Medicina')"
      ],
      "metadata": {
        "id": "J5numw-_NDsc"
      },
      "execution_count": null,
      "outputs": []
    },
    {
      "cell_type": "code",
      "source": [
        "cursos_prounil.get_group('Pedagogia')"
      ],
      "metadata": {
        "id": "lWX4VQ_ONJox"
      },
      "execution_count": null,
      "outputs": []
    },
    {
      "cell_type": "code",
      "source": [
        "# d) Agrupe os dados por Estado e obtenha a média de notas de corte por Estado.\n",
        "\n",
        "cursos_prouni.groupby('uf_busca')['nota_integral_ampla'].mean()"
      ],
      "metadata": {
        "id": "1oFLnnhyNOrT"
      },
      "execution_count": null,
      "outputs": []
    },
    {
      "cell_type": "code",
      "source": [
        "# e) Agrupe os dados pelos cursos Tecnológicos.\n",
        "\n",
        "grau.get_group('Tecnológico')"
      ],
      "metadata": {
        "id": "8qzGdYpAPVJB"
      },
      "execution_count": null,
      "outputs": []
    },
    {
      "cell_type": "code",
      "source": [
        "# f) Elimine a coluna “cidade_filtro” do dataframe.\n",
        "\n",
        "cursos_prouni.drop('cidade_filtro', axis=1, inplace=True)"
      ],
      "metadata": {
        "id": "XFMs8yBGP8sK"
      },
      "execution_count": 80,
      "outputs": []
    },
    {
      "cell_type": "code",
      "source": [
        "# g) Apresente a média das mensalidades dos cursos de Medicina.\n",
        "\n",
        "media_mensalidade_medicina = cursos_prounil.get_group('Medicina')['mensalidade'].mean()\n",
        "\n",
        "media_mensalidade_medicina\n"
      ],
      "metadata": {
        "colab": {
          "base_uri": "https://localhost:8080/"
        },
        "id": "Ft1pQKwNwi4s",
        "outputId": "5dfa0178-b85f-460c-e9fa-9c30f5afb929"
      },
      "execution_count": 81,
      "outputs": [
        {
          "output_type": "execute_result",
          "data": {
            "text/plain": [
              "7168.341532258064"
            ]
          },
          "metadata": {},
          "execution_count": 81
        }
      ]
    },
    {
      "cell_type": "code",
      "source": [
        "# h) Média das notas de corte dos cursos de tempo integral.\n",
        "\n",
        "turno_integral = cursos_prouni.groupby('turno')\n",
        "\n",
        "media_curso_integral = turno_integral.get_group('Integral')['nota_integral_ampla'].mean()\n",
        "\n",
        "media_curso_integral\n"
      ],
      "metadata": {
        "colab": {
          "base_uri": "https://localhost:8080/"
        },
        "id": "LElOfv2GxW13",
        "outputId": "7af21451-3799-45bf-8a8c-1b531178e8b4"
      },
      "execution_count": 82,
      "outputs": [
        {
          "output_type": "execute_result",
          "data": {
            "text/plain": [
              "605.07878125"
            ]
          },
          "metadata": {},
          "execution_count": 82
        }
      ]
    },
    {
      "cell_type": "code",
      "source": [
        "# i) Estatística Descritiva das Notas Integral Ampla dos cursos de Bacharelado\n",
        "\n",
        "\n",
        "nota_integral_bacharelado = grau.get_group('Bacharelado')['nota_integral_ampla'].describe()\n",
        "\n",
        "nota_integral_bacharelado"
      ],
      "metadata": {
        "colab": {
          "base_uri": "https://localhost:8080/"
        },
        "id": "LvqYlhMWyrQf",
        "outputId": "fcc881e0-38c5-4e36-b8bb-9bb2e0b0b4d3"
      },
      "execution_count": 83,
      "outputs": [
        {
          "output_type": "execute_result",
          "data": {
            "text/plain": [
              "count    19165.000000\n",
              "mean       500.687570\n",
              "std        230.945314\n",
              "min          0.000000\n",
              "25%        543.480000\n",
              "50%        594.280000\n",
              "75%        627.500000\n",
              "max        781.200000\n",
              "Name: nota_integral_ampla, dtype: float64"
            ]
          },
          "metadata": {},
          "execution_count": 83
        }
      ]
    },
    {
      "cell_type": "code",
      "source": [
        "# j) Gráfico comparativo entre o grau dos cursos (Bacharelado, Licenciatura, Tecnologia, etc) pelas Notas Integral de Cotas.\n",
        "\n",
        "\n",
        "curso_integral_cotas = cursos_prouni.groupby('grau')['nota_integral_cotas'].mean()\n",
        "\n",
        "fig, ax = plt.subplots()\n",
        "\n",
        "curso_integral_cotas.plot(kind='bar', ax=ax)\n",
        "\n",
        "ax.set_xlabel('Cursos')\n",
        "\n",
        "ax.set_ylabel('Notas')\n",
        "\n",
        "ax.set_title('Comparativo pelas Notas Integral de Cotas')\n",
        "\n",
        "plt.xticks(rotation=45)\n",
        "\n",
        "plt.tight_layout()\n",
        "\n",
        "plt.show()\n"
      ],
      "metadata": {
        "colab": {
          "base_uri": "https://localhost:8080/",
          "height": 487
        },
        "id": "ySAtjP4T1OTd",
        "outputId": "3d1961c0-774e-43a9-d1ef-a582ac97e796"
      },
      "execution_count": 84,
      "outputs": [
        {
          "output_type": "display_data",
          "data": {
            "text/plain": [
              "<Figure size 640x480 with 1 Axes>"
            ],
            "image/png": "[encoded data removed]"
          },
          "metadata": {}
        }
      ]
    }
  ],
  "metadata": {
    "colab": {
      "provenance": [],
      "include_colab_link": true
    },
    "kernelspec": {
      "display_name": "Python 3",
      "name": "python3"
    }
  },
  "nbformat": 4,
  "nbformat_minor": 0
}